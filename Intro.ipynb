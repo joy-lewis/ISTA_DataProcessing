{
 "cells": [
  {
   "cell_type": "markdown",
   "metadata": {
    "tags": []
   },
   "source": [
    "# Hausaufgabe 0\n",
    "## Vorstellung der Gruppe\n",
    "<!-- Lizensiert unter (CC BY 4.0) Gert Herold, 2022 -->\n",
    "\n",
    "Diese Hausaufgabe dient dem Kennenlernen der Gruppenmitglieder und der Programmierumgebung.\n",
    "Für alle zukünftigen Hausaufgaben (ab HA 1) buchen Sie bitte einen interaktiven Besprechungstermin mit einer Lehrperson.\n",
    "Die Abgabe *aller* Hausaufgaben geschieht in Form einer \\*.ipynb-Datei (wie dieser hier) über das ISIS-Portal.\n",
    "\n",
    "***\n",
    "Abgabefrist dieser HA ist **Donnerstag, der 27.10.2022**.\n",
    "***\n",
    "\n",
    "\n",
    "**1) Ergänzen Sie die Tabelle in der folgenden Markdown-Zelle mit Ihren Daten.** Ändern Sie außerdem den Namen dieser Datei, sodass er Ihre Gruppennummer enthält."
   ]
  },
  {
   "cell_type": "markdown",
   "metadata": {},
   "source": [
    "**Gruppe: 145**\n",
    "\n",
    "| Name      | Matrikelnr. | TUB E-Mail| Studiengang (+BSc/MSc?) |\n",
    "|-----------|-------------|-|-|\n",
    "| Joy Lucas  | 456583  | decarvalholucas@campus.tu-berlin.de| BSc Informatik |\n",
    "| Ilay Erdem  | 397660  | ilay.erdem@campus.tu-berlin.de| MSc Chemieingenieurwesen |"
   ]
  },
  {
   "cell_type": "markdown",
   "metadata": {},
   "source": [
    "**2) Unter der Annahme, dass sich pro Semester durchschnittlich 2000 Studenten an der TU Berlin immatrikulieren, die eine neue (fortlaufende) Matrikelnummer zugewiesen bekommen: Wieviel Zeit $\\Delta t$ ist ungefähr zwischen der Einschreibung der beiden Teilnehmer Ihrer Gruppe vergangen?**\n",
    "Gehen Sie (ungeachtet der Realität) davon aus, dass sich die Einschreibungen gleichmäßig über ein Semester verteilen und nutzen Sie die folgende Zelle für die Berechnung."
   ]
  },
  {
   "cell_type": "code",
   "execution_count": 12,
   "metadata": {
    "tags": []
   },
   "outputs": [
    {
     "name": "stdout",
     "output_type": "stream",
     "text": [
      "Zeit zwischen Einschreibungen (Tage): 5377\n"
     ]
    }
   ],
   "source": [
    "# Hier eigenen Code schreiben bzw. folgende Zeile verändern ...\n",
    "delta_t = None\n",
    "mtr_nr1 = 456583\n",
    "mtr_nr2 = 397660\n",
    "nr_days = 365/2 # pro Semester\n",
    "immatriculation_per_day = 2000 / nr_days\n",
    "delta_t = abs(mtr_nr1 - mtr_nr2) / immatriculation_per_day # Anzahl der Immatrikulation durch Anzahl Immatrikulation pro Tag\n",
    "print(\"Zeit zwischen Einschreibungen (Tage): \" + str(round(delta_t)))"
   ]
  },
  {
   "cell_type": "markdown",
   "metadata": {},
   "source": [
    "Die nachfolgende Zelle soll nicht verändert werden. Sie enthält einen Plausibilitätstest, der den geschriebenen Code überprüft. Solche Code-Zellen werden Sie in den HAs immer wieder mal finden; lassen Sie sich davon nicht abschrecken bzw. erst dann, wenn beim Ausführen der Zelle eine Fehlermeldung erscheint. Wird die Zelle *ohne* Fehlermeldung ausgeführt, bedeutet das im Umkehrschluss jedoch *nicht*, dass ihr Programmcode auf jeden Fall fehlerfrei ist -- es ist lediglich ein erster Indiz."
   ]
  },
  {
   "cell_type": "code",
   "execution_count": 13,
   "metadata": {
    "deletable": false,
    "editable": false,
    "tags": []
   },
   "outputs": [],
   "source": [
    "# Hier ist mal ein einfacher Test, ob überhaupt was programmiert wurde:\n",
    "assert delta_t is not None # <- das verursacht eine Fehlermeldung, wenn delta_t doch noch None ist"
   ]
  },
  {
   "cell_type": "markdown",
   "metadata": {},
   "source": [
    "**3) Schreiben Sie einen kurzen Programmabschnitt, der eine Zeichenkette `zeichenkette` erzeugt, die so lang ist wie die Namen der Gruppenmitglieder (ohne Leerzeichen), aber als Zeichen anstelle der beiden Namen die letzten 2 Ziffern der Gruppennummer enthält.** Vermeiden Sie es, die Länge der Namen selbst auszuzählen oder die Ziffern der Gruppenzahl wiederholt einzutippen.\n",
    "\n",
    "Beispiel für eine Gruppe \"391\":\n",
    "```python\n",
    "name1 = \"AlanTuring\"\n",
    "name2 = \"MargaretHamilton\"\n",
    "```\n",
    "Gewünschtes Ergebnis:`'99999999991111111111111111'`\n"
   ]
  },
  {
   "cell_type": "code",
   "execution_count": 14,
   "metadata": {},
   "outputs": [
    {
     "name": "stdout",
     "output_type": "stream",
     "text": [
      "Gewünschtes Ergebnis: 44444444555555555\n"
     ]
    },
    {
     "data": {
      "text/plain": [
       "\u001b[0;31mSignature:\u001b[0m \u001b[0mlen\u001b[0m\u001b[0;34m(\u001b[0m\u001b[0mobj\u001b[0m\u001b[0;34m,\u001b[0m \u001b[0;34m/\u001b[0m\u001b[0;34m)\u001b[0m\u001b[0;34m\u001b[0m\u001b[0;34m\u001b[0m\u001b[0m\n",
       "\u001b[0;31mDocstring:\u001b[0m Return the number of items in a container.\n",
       "\u001b[0;31mType:\u001b[0m      builtin_function_or_method\n"
      ]
     },
     "metadata": {},
     "output_type": "display_data"
    }
   ],
   "source": [
    "zeichenkette = 'xyz' # <- Den Inhalt dieser Variable sollten Sie im folgenden ersetzen / überschreiben.\n",
    "len?\n",
    "# Hier eigenen Code schreiben ...\n",
    "group = \"145\"\n",
    "name1 = \"JoyLucas\"\n",
    "name2 = \"IlayErdem\"\n",
    "zeichenkette = group[-2] * len(name1) + group[-1] * len(name2)\n",
    "print(\"Gewünschtes Ergebnis: \" + zeichenkette)"
   ]
  },
  {
   "cell_type": "code",
   "execution_count": 7,
   "metadata": {
    "deletable": false,
    "editable": false,
    "tags": []
   },
   "outputs": [],
   "source": [
    "# Hier ist ein Test, der überprüft, ob das Ergebnis so viele Zeichen hat wie beide Namen zusammen:\n",
    "assert len(zeichenkette) == len(name1) + len(name2)"
   ]
  }
 ],
 "metadata": {
  "kernelspec": {
   "display_name": "Python 3 (ipykernel)",
   "language": "python",
   "name": "python3"
  },
  "language_info": {
   "codemirror_mode": {
    "name": "ipython",
    "version": 3
   },
   "file_extension": ".py",
   "mimetype": "text/x-python",
   "name": "python",
   "nbconvert_exporter": "python",
   "pygments_lexer": "ipython3",
   "version": "3.8.13"
  }
 },
 "nbformat": 4,
 "nbformat_minor": 4
}
