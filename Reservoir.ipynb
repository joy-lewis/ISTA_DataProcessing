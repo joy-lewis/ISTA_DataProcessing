{
 "cells": [
  {
   "cell_type": "markdown",
   "metadata": {
    "tags": []
   },
   "source": [
    "# Hausaufgabe 2\n",
    "## Ablassung eines Stausees\n",
    "<!-- Lizensiert unter (CC BY 4.0) Gert Herold, 2021 -->\n",
    "\n",
    "Wegen Reparaturarbeiten an der Staumauer einer Talsperre soll das Wasser abgelassen werden. Der See habe ein Fassungsvermögen von $215 \\cdot 10^6\\,\\text{m}^3$. Die Oberfläche des Stausees erstrecke sich über $10\\,\\text{km}^2$. Der Wasserauslass auf Grundhöhe habe einen Querschnitt von $2\\,\\text{m}^2$. Der Fluss selbst werde so umgeleitet, dass kein Wasser in den See nachfließen kann."
   ]
  },
  {
   "cell_type": "markdown",
   "metadata": {},
   "source": [
    "### 1) Anfangsbedingungen\n",
    "\n",
    "**1.1) Es werde angenommen, die Form des Sees lasse sich mit einem umgedrehten [Kegel](https://de.wikipedia.org/wiki/Kegel_(Geometrie)) annähern. Wie tief ist dann der See?**\n",
    "\n",
    "Speichern Sie das Ergebnis (in Metern) in der Variablen `h0` und geben Sie sie aus."
   ]
  },
  {
   "cell_type": "code",
   "execution_count": 34,
   "metadata": {},
   "outputs": [
    {
     "name": "stdout",
     "output_type": "stream",
     "text": [
      "Höhe des Sees ist: 64.50 m.\n"
     ]
    }
   ],
   "source": [
    "h0 = None \n",
    "# Hier eigenen Code schreiben ...\n",
    "# berechnung des Volumens einens Kegels: V = 1/3 * Grundfläche * Höhe\n",
    "# umstellen nach Höhe h = V*3/Grundfläche\n",
    "# values:\n",
    "V = 215 * 10**6        # Volumen des Sees in m^3\n",
    "G = 10 * (10**3)**2    # Grundfläche (in m^2 umgeadnelt)\n",
    "h0 = (V*3)/G\n",
    "print(\"Höhe des Sees ist: %.2f m.\" %(h0))"
   ]
  },
  {
   "cell_type": "code",
   "execution_count": 3,
   "metadata": {
    "deletable": false,
    "editable": false,
    "tags": []
   },
   "outputs": [],
   "source": [
    "# Hier ist ein Plausibilitäts-Test:\n",
    "assert 60 < h0 < 80"
   ]
  },
  {
   "cell_type": "markdown",
   "metadata": {},
   "source": [
    "Vereinfachend werde angenommen, dass die sich ausbildende Strömung sich mithilfe der [Bernoulli-Gleichung](https://de.wikipedia.org/wiki/Bernoulli-Gleichung) beschreiben lasse:\n",
    "\n",
    "$$\n",
    "\\frac{u^2}{2}+\\frac{p}{\\rho}+g \\, z = \\text{const}\n",
    "$$\n",
    "\n",
    "Dabei beschreibt $u$ die Strömungsgeschwindigkeit des Fluids an einer beliebigen betrachteten Stelle, $p$ den hydrodynamischen Druck, $\\rho$ die Dichte und $z$ die Höhe. $g=9{,}81\\frac{\\text{m}}{\\text{s}^2}$ ist die Erdbeschleunigung. Werden nur die Seeoberfläche und der Ausfluss betrachtet, so kann der Druck $p$ ebenfalls als konstant angenommen werden, da er dem Umgebungsdruck entspricht. Ebenso wird die Dichte als konstant angenommen, und die obige Gleichung vereinfacht sich zu \n",
    "\n",
    "$$\n",
    "\\frac{u^2}{2}+g \\, z = \\text{const}\n",
    "$$\n",
    "\n",
    "bzw. für oben und unten:\n",
    "\n",
    "$$\n",
    "\\frac{u_\\text{oben}^2}{2}+g \\, z_\\text{oben} = \\frac{u_\\text{unten}^2}{2}+g \\, z_\\text{unten}\n",
    "$$"
   ]
  },
  {
   "cell_type": "markdown",
   "metadata": {},
   "source": [
    "**1.2) Berechnen Sie die sich anfangs ausbildende Strömungsgeschwindigkeit am Ausfluss $u_\\text{unten,0}$ (`u_unten0`) in m/s sowie den Volumenstrom $\\dot{V_0}$ (`Vdot0`) in m³/s unter der Annahme, dass die Bewegung der Seeoberfläche vernachlässigbar ist.**"
   ]
  },
  {
   "cell_type": "code",
   "execution_count": 35,
   "metadata": {},
   "outputs": [
    {
     "name": "stdout",
     "output_type": "stream",
     "text": [
      "Die Anfangs ausbildende Strömungsgeschwindigkeit am Ausfluss ist: 35.57 m/s\n",
      "Der Volumenstrom ist: 71.15 m^3/s\n"
     ]
    }
   ],
   "source": [
    "u_unten0 = None\n",
    "Vdot0 = None\n",
    "# Hier eigenen Code schreiben ...\n",
    "\n",
    "# u_unten0 (Strömungsgeschwindigkeit am Ausfluss) berechnen\n",
    "# u_unten0^2 = u_oben^2 + 2*g*z_oben - 2*g*z_unten\n",
    "g = 9.81\n",
    "z_oben = 64.5 # Höhe von Aufgabe 1.1)\n",
    "z_unten = 0   # Grundhöhe\n",
    "u_oben = 0    # Strömung an der Seeoberfläche ist nach ANnahme gleich 0\n",
    "u_unten0_sqr = u_oben**2 + 2*g*z_oben - 2*g*z_unten\n",
    "u_unten0 = u_unten0_sqr**0.5\n",
    "print(\"Die Anfangs ausbildende Strömungsgeschwindigkeit am Ausfluss ist: %.2f m/s\" %(u_unten0))\n",
    "\n",
    "# Vdot0 berechnen\n",
    "# Vdot0 = Strömungsgeschwindigkeit am Ausfluss * Querschnitt des Ausflusses\n",
    "A = 2 # aus Aufgabentext \n",
    "Vdot0 = u_unten0 * A\n",
    "print(\"Der Volumenstrom ist: %.2f m^3/s\" %(Vdot0))"
   ]
  },
  {
   "cell_type": "code",
   "execution_count": 36,
   "metadata": {
    "deletable": false,
    "editable": false,
    "tags": []
   },
   "outputs": [],
   "source": [
    "# Hier sind einige Plausibilitäts-Tests:\n",
    "assert u_unten0 > 30\n",
    "assert Vdot0 < 80"
   ]
  },
  {
   "cell_type": "markdown",
   "metadata": {},
   "source": [
    "Tipp: Um die Kreiszahl $\\pi$ unter Python verwenden zu können, muss man sie entweder selbst definieren oder z.B. aus dem [NumPy-Modul](https://numpy.org/) importieren. Für ein Beispiel den folgenden Code-Abschnitt öffnen."
   ]
  },
  {
   "cell_type": "code",
   "execution_count": 37,
   "metadata": {
    "tags": []
   },
   "outputs": [
    {
     "name": "stdout",
     "output_type": "stream",
     "text": [
      "Radius: 1.78 km\n"
     ]
    }
   ],
   "source": [
    "# Importiere pi aus numpy\n",
    "from numpy import pi\n",
    "\n",
    "# Berechne den \"Radius\" der Seeoberfläche\n",
    "r0 = (G/pi)**0.5\n",
    "print(f'Radius: {r0/1000:.2f} km')"
   ]
  },
  {
   "cell_type": "markdown",
   "metadata": {
    "tags": []
   },
   "source": [
    "### 2) Leerung des Sees\n",
    "\n",
    "**2.1) Schreiben Sie eine Funktion, die die Tiefe des \"Kegel\"-Sees (in Metern) allgemein abhängig von der enthaltenen Wassermenge bestimmt.**\n",
    "\n",
    "Beachten Sie, dass sich die Form des Sees [nicht verändert](https://de.wikipedia.org/wiki/Strahlensatz) und somit der oben gegebene Wert für die Oberfläche nur bei vollem See gilt."
   ]
  },
  {
   "cell_type": "code",
   "execution_count": 44,
   "metadata": {},
   "outputs": [],
   "source": [
    "#import math\n",
    "def tiefe(v_neu):\n",
    "    # h_neu = h_alt * c , wobei c = konstant <= 1, nach Strahlensatz bleibt das Verhältnis zwischen Höhe und Volumen\n",
    "    #                                              bzw. Höhe und Radius vor und nach Leerung des Sees dasselbe\n",
    "    # v_alt = g_alt * h_alt * 1/3 \n",
    "    # v_neu = g_neu * h_neu * 1/3\n",
    "    #       = pi * r_neu^2 * h_neu * 1/3\n",
    "    #       = pi * (c * r_alt)^2 * c * h_alt * 1/3\n",
    "    #       = pi * r_alt^2 * c^3 * h_alt * 1/3\n",
    "    #       = g_alt * c^3 * h_alt * 1/3\n",
    "    #\n",
    "    # umstellen nach c:\n",
    "    #     c = ((v_neu*3)/(g_alt * h_alt))**(1/3)  # old vs new depth\n",
    "    #\n",
    "    # c = h_neu/h_alt ersetzen\n",
    "    # h_neu = ((v_neu*3)/(g_alt * h_alt))**(1/3) * h_alt\n",
    "    #\n",
    "    g_alt = G    # Grundfläche\n",
    "    h_alt = h0\n",
    "    h_neu = ((v_neu*3)/(g_alt * h_alt))**(1/3) * h_alt  # old vs new depth\n",
    "    return h_neu  # Tiefe in Metern\n",
    "    \n",
    "#V = 10**8\n",
    "#tiefe(V)"
   ]
  },
  {
   "cell_type": "code",
   "execution_count": 42,
   "metadata": {
    "deletable": false,
    "editable": false,
    "tags": []
   },
   "outputs": [],
   "source": [
    "# Hier sind einige Plausibilitäts-Tests:\n",
    "assert abs(h0-tiefe(215e6)) < 1e-5\n",
    "assert abs(50-tiefe(1e8)) < 0.1"
   ]
  },
  {
   "cell_type": "markdown",
   "metadata": {},
   "source": [
    "**2.2) Schreiben Sie eine Funktion, die den diskreten Zeitverlauf der Wassertiefe $h(t)$ bis zur Leerung des Sees zurückgibt.**\n",
    "\n",
    "  * Die Funktion soll ein Startvolumen $V_0$ und eine Zeitschrittweite $\\Delta t$ übergeben bekommen.\n",
    "  * Verwenden Sie in den Berechnungen standardmäßig [SI-Einheiten](https://de.wikipedia.org/wiki/Internationales_Einheitensystem).\n",
    "  * Beachten Sie, dass sich auch der Volumenstrom zeitlich ändert.\n",
    "  * Die Funktion soll alle berechneten Zeiten und die jeweils zugehörigen Tiefen in zwei getrennten Listen zurückgeben.\n",
    "  \n",
    "Hinweis: Die Änderung des Volumens lässt sich annähernd über $V_{n+1}=V_n-\\dot{V_n} \\cdot \\Delta t$ beschreiben."
   ]
  },
  {
   "cell_type": "code",
   "execution_count": 45,
   "metadata": {},
   "outputs": [
    {
     "name": "stdout",
     "output_type": "stream",
     "text": [
      "([0, 1, 2], [0.2319602463593557, 0.1927006723435085, 0.132040474086248])\n"
     ]
    }
   ],
   "source": [
    "def abfluss(V0, dt):\n",
    "    # Hier eigenen Code schreiben ...\n",
    "    # v_alt = V0\n",
    "    # t_total = 0\n",
    "    # aus v_alt fließt dt lang wasser. Dann ist noch v_neu viel wasser im see übrig, \n",
    "    # mit v_neu = v_alt - vol_strom * dt \n",
    "    # und t_total = t_total + dt\n",
    "    # und h = tiefe(v_neu)\n",
    "    # -> h und t_total in liste speichern\n",
    "    # wenn v_neu > 0 wiederhole den schritt\n",
    "    zeiten = []\n",
    "    tiefen = []\n",
    "    t_total = 0\n",
    "    v_neu = V0\n",
    "    while(v_neu > 0):\n",
    "        h_pre = tiefe(v_neu)\n",
    "        zeiten.append(t_total)\n",
    "        tiefen.append(h_pre)\n",
    "        v_neu = max(v_neu - vol_strom(h_pre) * dt, 0.0)  # wir wollen kein negatives volumen\n",
    "        t_total = t_total + dt\n",
    "    return zeiten, tiefen\n",
    " \n",
    "def vol_strom(h_pre):\n",
    "    g = 9.81\n",
    "    Aq = A\n",
    "    u_unten = (2*h_pre*g)**(1/2)\n",
    "    return u_unten*Aq\n",
    "    \n",
    "print(abfluss(10,1))"
   ]
  },
  {
   "cell_type": "code",
   "execution_count": 46,
   "metadata": {
    "deletable": false,
    "editable": false,
    "tags": []
   },
   "outputs": [],
   "source": [
    "# Hier sind einige Plausibilitäts-Tests:\n",
    "assert len(abfluss(10,1))==2\n",
    "assert type(abfluss(10,1)[0])==type(abfluss(10,1)[1])==list"
   ]
  },
  {
   "cell_type": "markdown",
   "metadata": {},
   "source": [
    "**2.3) Wie lange dauert es, bis der Stausee komplett abgelassen wurde?** \n",
    "\n",
    "  * Plotten Sie den Zeitverlauf der Wassertiefe bis zur Leerung für zwei Zeitschrittweiten:\n",
    "    * $\\Delta t_1$ = 1 Minute\n",
    "    * $\\Delta t_2$ = 4 Tage\n",
    "  * Zeichnen Sie beide Verläufe in dasselbe Diagramm und diskutieren Sie Auffälligkeiten.\n",
    "\n",
    "_Hinweis: Der See kann auch als leer betrachtet werden, wenn im kommenden Zeitschritt mehr Wasser herausfließen würde als noch enthalten ist._"
   ]
  },
  {
   "cell_type": "code",
   "execution_count": 47,
   "metadata": {},
   "outputs": [
    {
     "data": {
      "text/plain": [
       "<matplotlib.legend.Legend at 0x7f86f5db2070>"
      ]
     },
     "execution_count": 47,
     "metadata": {},
     "output_type": "execute_result"
    },
    {
     "data": {
      "image/png": "[encoded data removed]",
      "text/plain": [
       "<Figure size 640x480 with 1 Axes>"
      ]
     },
     "metadata": {},
     "output_type": "display_data"
    }
   ],
   "source": [
    "%matplotlib inline\n",
    "import matplotlib.pyplot as plt\n",
    "# Plotbefehl: plot(x_werte_liste, y_werte_liste)\n",
    "\n",
    "# Hier eigenen Code schreiben ...\n",
    "V0 = 215e6     # Volumen des Sees\n",
    "t1_x, t1_y = abfluss(V0, 60)\n",
    "t2_x, t2_y = abfluss(V0, 4*24*60*60)  \n",
    "  \n",
    "    \n",
    "plt.plot(t1_x, t1_y, label=\"t1\")\n",
    "plt.plot(t2_x, t2_y, label=\"t2\")\n",
    "plt.xlabel('Zeit')\n",
    "plt.ylabel('Tiefe')\n",
    "plt.legend()\n",
    "\n",
    "# Auffäligkeiten: Der kürzere Zeit Step t1 findet eine Präzisere Lösung"
   ]
  },
  {
   "cell_type": "markdown",
   "metadata": {},
   "source": [
    "### 3) Anderer See\n",
    "\n",
    "Wiederholen Sie Aufgabenteil 2.3) unter der Annahme, dass der See bei gleichem Volumen und gleicher Oberfläche annähernd durch einen *Zylinder* beschrieben wird. Schreiben Sie hierfür möglichst wenig neuen Code."
   ]
  },
  {
   "cell_type": "code",
   "execution_count": 48,
   "metadata": {},
   "outputs": [
    {
     "data": {
      "text/plain": [
       "<matplotlib.legend.Legend at 0x7f86f96fe670>"
      ]
     },
     "execution_count": 48,
     "metadata": {},
     "output_type": "execute_result"
    },
    {
     "data": {
      "image/png": "[encoded data removed]",
      "text/plain": [
       "<Figure size 640x480 with 1 Axes>"
      ]
     },
     "metadata": {},
     "output_type": "display_data"
    }
   ],
   "source": [
    "# Hier eigenen Code schreiben ...\n",
    "def tiefe_zyl(v_neu):\n",
    "    # h_neu = h_alt * c , wobei c = konstant <= 1, nach Strahlensatz bleibt das verhältniss zwischen Höhe und Volumen\n",
    "    #                                              bzw. Hähe und Radius vor und nach Leerung des Sees dasselbe\n",
    "    # v_alt = g_alt * h_alt \n",
    "    # v_neu = g_alt * h_neu \n",
    "    #       = g_alt * c * h_alt\n",
    "    #\n",
    "    # umstellen nach c:\n",
    "    #     c = ((v_neu)/(g_alt * h_alt))    # old vs new depth\n",
    "    #\n",
    "    # c = h_neu/h_alt ersetzen\n",
    "    # h_neu = ((v_neu)/(g_alt * h_alt)) * h_alt\n",
    "    #\n",
    "    g_alt = G    # Grundfläche\n",
    "    h_neu = v_neu/g_alt  # old vs new depth, h_alt hat sich weggekürzt\n",
    "    return h_neu\n",
    "    \n",
    "def abfluss_zyl(V0, dt):\n",
    "    # Hier eigenen Code schreiben ...\n",
    "    # v_alt = V0\n",
    "    # t_total = 0\n",
    "    # aus v_alt fließt dt lang wasser. Dann ist noch v_neu viel wasser im see übrig, \n",
    "    # mit v_neu = v_alt - vol_strom * dt \n",
    "    # und t_total = t_total + dt\n",
    "    # und h = tiefe(v_neu)\n",
    "    # -> h und t_total in liste speichern\n",
    "    # wenn v_neu > 0 wiederhole den schritt\n",
    "    zeiten = []\n",
    "    tiefen = []\n",
    "    t_total = 0\n",
    "    v_neu = V0\n",
    "    h_pre = tiefe_zyl(V0)\n",
    "    zeiten.append(t_total)\n",
    "    tiefen.append(tiefe_zyl(V0))\n",
    "    while(v_neu > 0.01):\n",
    "        v_neu = max(v_neu - vol_strom(h_pre) * dt, 0.0)  # wir wollen kein negatives volumen\n",
    "        t_total = t_total + dt\n",
    "        zeiten.append(t_total)\n",
    "        tiefen.append(tiefe_zyl(v_neu))\n",
    "        h_pre = tiefe_zyl(v_neu)\n",
    "        #if h_pre < 0.01: break  # damit nicht unnötig lange kleineHöhen  werte gespoeichert werden\n",
    "    return zeiten, tiefen\n",
    "\n",
    "#print(\"Format: [Zeiten][Tiefen]\")\n",
    "#print(abfluss_zyl(V,60*60*24*7))\n",
    "\n",
    "\n",
    "%matplotlib inline\n",
    "import matplotlib.pyplot as plt\n",
    "# Plotbefehl: plot(x_werte_liste, y_werte_liste)\n",
    "\n",
    "# Hier eigenen Code schreiben ...\n",
    "V0 = 215e6     # Volumen des Sees\n",
    "t1_x, t1_y = abfluss_zyl(V0, 60)\n",
    "t2_x, t2_y = abfluss_zyl(V0, 4*24*60*60)   \n",
    "  \n",
    "    \n",
    "plt.plot(t1_x, t1_y, label=\"t1\")\n",
    "plt.plot(t2_x, t2_y, label=\"t2\")\n",
    "plt.xlabel('Zeit')\n",
    "plt.ylabel('Tiefe')\n",
    "plt.legend()"
   ]
  },
  {
   "cell_type": "code",
   "execution_count": null,
   "metadata": {},
   "outputs": [],
   "source": []
  }
 ],
 "metadata": {
  "kernelspec": {
   "display_name": "Python 3 (ipykernel)",
   "language": "python",
   "name": "python3"
  },
  "language_info": {
   "codemirror_mode": {
    "name": "ipython",
    "version": 3
   },
   "file_extension": ".py",
   "mimetype": "text/x-python",
   "name": "python",
   "nbconvert_exporter": "python",
   "pygments_lexer": "ipython3",
   "version": "3.8.13"
  }
 },
 "nbformat": 4,
 "nbformat_minor": 4
}
